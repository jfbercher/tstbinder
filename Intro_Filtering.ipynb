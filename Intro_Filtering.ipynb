{
 "cells": [
  {
   "cell_type": "code",
   "execution_count": 1,
   "metadata": {
    "collapsed": false
   },
   "outputs": [
    {
     "name": "stdout",
     "output_type": "stream",
     "text": [
      "... Configuring matplotlib formats\n",
      "... Configuring matplotlib with inline figures\n",
      "... Importing numpy as np, scipy as sp, pyplot as plt, scipy.stats as stats\n",
      "   ... scipy.signal as sig\n",
      "... Importing widgets, display, HTML, Image, Javascript\n",
      "... Some LaTeX definitions\n"
     ]
    },
    {
     "data": {
      "text/html": [
       "\n",
       "$$\\require{color}\n",
       "\\require{cancel}\n",
       "\\def\\tf#1{{\\mathrm{FT}\\left\\{ #1 \\right\\}}}\n",
       "\\def\\flecheTF{\\rightleftharpoons }\n",
       "\\def\\TFI#1#2#3{{\\displaystyle{\\int_{-\\infty}^{+\\infty} #1 ~e^{j2\\pi #2 #3} \n",
       "~\\dr{#2}}}}\n",
       "\\def\\TF#1#2#3{{\\displaystyle{\\int_{-\\infty}^{+\\infty} #1 ~e^{-j2\\pi #3 #2} \n",
       "~\\dr{#2}}}}\n",
       "\\def\\sha{ш}\n",
       "\\def\\dr#1{\\mathrm{d}#1}\n",
       "\\def\\egalpardef{\\mathop{=}\\limits^\\triangle}\n",
       "\\def\\sinc#1{{\\mathrm{sinc}\\left( #1 \\right)}}\n",
       "\\def\\rect{\\mathrm{rect}}\n",
       "\\definecolor{lightred}{rgb}{1,0.1,0}\n",
       "\\def\\myblueeqbox#1{{\\fcolorbox{blue}{lightblue}{$\textcolor{blue}{ #1}$}}}\n",
       "\\def\\myeqbox#1#2{{\\fcolorbox{#1}{light#1}{$\textcolor{#1}{ #2}$}}}\n",
       "\\def\\eqbox#1#2#3#4{{\\fcolorbox{#1}{#2}{$\\textcolor{#3}{ #4}$}}}\n",
       "% border|background|text\n",
       "\\def\\eqboxa#1{{\\boxed{#1}}}\n",
       "\\def\\eqboxb#1{{\\eqbox{green}{white}{green}{#1}}}\n",
       "\\def\\eqboxc#1{{\\eqbox{blue}{white}{blue}{#1}}}\n",
       "\\def\\eqboxd#1{{\\eqbox{blue}{lightblue}{blue}{#1}}}\n",
       "\\def\\E#1{\\mathbb{E}\\left[#1\\right]}\n",
       "\\def\\ta#1{\\left<#1\\right>}\n",
       "\\def\\egalparerg{{\\mathop{=}\\limits_\\mathrm{erg}}}\n",
       "\\def\\expo#1{\\exp\\left(#1\\right)}\n",
       "\\def\\d#1{\\mathrm{d}#1}\n",
       "\\def\\wb{\\mathbf{w}} \n",
       "\\def\\sb{\\mathbf{s}} \n",
       "\\def\\xb{\\mathbf{x}}\n",
       "\\def\\Rb{\\mathbf{R}} \n",
       "\\def\\rb{\\mathbf{r}} \n",
       "\\def\\mystar{{*}}\n",
       "\\def\\ub{\\mathbf{u}}\n",
       "\\def\\wbopt{\\mathop{\\mathbf{w}}\\limits^\\triangle}\n",
       "\\def\\deriv#1#2{\\frac{\\mathrm{d}#1}{\\mathrm{d}#2}}\n",
       "\\def\\Ub{\\mathbf{U}}\n",
       "\\def\\db{\\mathbf{d}}\n",
       "\\def\\eb{\\mathbf{e}}\n",
       "\\def\\vb{\\mathbf{v}}\n",
       "\\def\\Ib{\\mathbf{I}}\n",
       "\\def\\Vb{\\mathbf{V}}\n",
       "\\def\\Lambdab{\\mathbf{\\Lambda}}\n",
       "\\def\\Ab{\\mathbf{A}}\n",
       "\\def\\Bb{\\mathbf{B}}\n",
       "\\def\\Cb{\\mathbf{C}}\n",
       "\\def\\Db{\\mathbf{D}}\n",
       "\\def\\Kb{\\mathbf{K}}\n",
       "\\def\\sinc#1{\\mathrm{sinc\\left(#1\\right)}}\n",
       "$$\n"
      ],
      "text/plain": [
       "<IPython.core.display.HTML object>"
      ]
     },
     "metadata": {},
     "output_type": "display_data"
    },
    {
     "name": "stdout",
     "output_type": "stream",
     "text": [
      "... Defining figures captions \n"
     ]
    },
    {
     "data": {
      "text/html": [
       "<style>\n",
       ".caption {\n",
       "font-weight: normal;\n",
       "text-align: left;\n",
       "width:60%; margin-left:10%; border:2px solid; padding-top:5px; padding-bottom:5px;\n",
       "background-color:white;border-color:#efd3d7;color:black;\n",
       "border-radius:8px;-webkit-border-radius:8px;-moz-border-radius:8px;border-radius:8px\n",
       "}\n",
       "</style>"
      ],
      "text/plain": [
       "<IPython.core.display.HTML object>"
      ]
     },
     "metadata": {},
     "output_type": "display_data"
    },
    {
     "name": "stdout",
     "output_type": "stream",
     "text": [
      "... Loading customized Javascript for interactive solutions (show/hide)\n"
     ]
    }
   ],
   "source": [
    "%run nbinit.ipy"
   ]
  },
  {
   "cell_type": "markdown",
   "metadata": {},
   "source": [
    "## A basic introduction to filtering"
   ]
  },
  {
   "cell_type": "markdown",
   "metadata": {},
   "source": [
    "Through examples, we define several operations on signals and show how they transform them. Then we define what is a filter and the notion of impulse response.   \n",
    "\n",
    "- [Transformations of signals - Examples of difference equations](#difference_equations)\n",
    "- [Filters](#filters)\n",
    "- [Notion of impulse response](#impulse_response)"
   ]
  },
  {
   "cell_type": "markdown",
   "metadata": {},
   "source": [
    "### Transformations of signals - Examples of difference equations <a name=\"difference_equations\"></a>"
   ]
  },
  {
   "cell_type": "markdown",
   "metadata": {},
   "source": [
    "We begin by defining a test signal."
   ]
  },
  {
   "cell_type": "code",
   "execution_count": null,
   "metadata": {
    "collapsed": false
   },
   "outputs": [],
   "source": [
    "# rectangular pulse\n",
    "N=20; L=5; M=10\n",
    "r=np.zeros(N)\n",
    "\n",
    "r[L:M]=1\n",
    "#\n",
    "plt.stem(r)\n",
    "_=plt.ylim([0, 1.2])"
   ]
  },
  {
   "cell_type": "code",
   "execution_count": null,
   "metadata": {
    "collapsed": false
   },
   "outputs": [],
   "source": [
    "def op1(signal):\n",
    "    transformed_signal=np.zeros(np.size(signal))\n",
    "    for t in np.arange(np.size(signal)):\n",
    "        transformed_signal[t]=signal[t]-signal[t-1]\n",
    "    return transformed_signal    \n",
    "\n",
    "def op2(signal):\n",
    "    transformed_signal=np.zeros(np.size(signal))\n",
    "    for t in np.arange(np.size(signal)):\n",
    "        transformed_signal[t]=0.5*signal[t]+0.5*signal[t-1]\n",
    "    return transformed_signal"
   ]
  },
  {
   "cell_type": "code",
   "execution_count": null,
   "metadata": {
    "collapsed": false
   },
   "outputs": [],
   "source": [
    "plt.figure()\n",
    "plt.stem(op1(r))\n",
    "_=plt.ylim([-1.2, 1.2])\n",
    "plt.title(\"Filtering of rectangular signal with op1\")\n",
    "plt.figure()\n",
    "plt.stem(op2(r),'r')\n",
    "_=plt.ylim([-0.2, 2.2])\n",
    "plt.title(\"Filtering of rectangular signal with op2\")"
   ]
  },
  {
   "cell_type": "markdown",
   "metadata": {},
   "source": [
    "We define a sine wave and check that the operation implemented by \"op1\" seems to be a derivative..."
   ]
  },
  {
   "cell_type": "code",
   "execution_count": null,
   "metadata": {
    "collapsed": false
   },
   "outputs": [],
   "source": [
    "t=np.linspace(0,100,500)\n",
    "sig=np.sin(2*pi*0.05*t)\n",
    "plt.plot(t,sig, label=\"Initial signal\")\n",
    "plt.plot(t,5/(2*pi*0.05)*op1(sig), label=\"Filtered signal\")\n",
    "plt.legend()"
   ]
  },
  {
   "cell_type": "markdown",
   "metadata": {},
   "source": [
    "Composition of operations:"
   ]
  },
  {
   "cell_type": "code",
   "execution_count": null,
   "metadata": {
    "collapsed": false
   },
   "outputs": [],
   "source": [
    "plt.stem(op1(op2(r)),'r')\n",
    "_=plt.ylim([-1.2, 2.2])"
   ]
  },
  {
   "cell_type": "code",
   "execution_count": null,
   "metadata": {
    "collapsed": false
   },
   "outputs": [],
   "source": [
    "def op3(signal):\n",
    "    transformed_signal=np.zeros(np.size(signal))\n",
    "    for t in np.arange(np.size(signal)):\n",
    "        transformed_signal[t]= 0.7*transformed_signal[t-1]+signal[t]\n",
    "    return transformed_signal\n",
    "\n",
    "plt.stem(op3(r),'r')\n",
    "plt.title(\"Filtering of rectangular signal with op3\")\n",
    "_=plt.ylim([-0.2, 3.2])"
   ]
  },
  {
   "cell_type": "markdown",
   "metadata": {},
   "source": [
    "#### A curiosity"
   ]
  },
  {
   "cell_type": "code",
   "execution_count": null,
   "metadata": {
    "collapsed": false
   },
   "outputs": [],
   "source": [
    "def op4(signal):\n",
    "    transformed_signal=np.zeros(np.size(signal))\n",
    "    for t in np.arange(np.size(signal)):\n",
    "        transformed_signal[t]= 1*transformed_signal[t-1]+signal[t]\n",
    "    return transformed_signal\n",
    "\n",
    "plt.stem(op4(r),'r')\n",
    "plt.title(\"Filtering of rectangular signal with op4\")\n",
    "_=plt.ylim([-0.2, 3.2])\n",
    "# And then..\n",
    "plt.figure()\n",
    "plt.stem(op1(op4(r)),'r')\n",
    "plt.title(\"Filtering of rectangular signal with op1(op4)\")\n",
    "_=plt.ylim([-0.2, 1.2])"
   ]
  },
  {
   "cell_type": "markdown",
   "metadata": {},
   "source": [
    "### Filters <a name=\"filters\"></a>"
   ]
  },
  {
   "cell_type": "markdown",
   "metadata": {},
   "source": [
    "**Definition** A filter is a time-invariant linear system. \n",
    "\n",
    "- Time invariance means that if $y(n)$ is the response associated with an input $x(n)$, then $y(n-n_0)$ is the response associated with the input $x(n-n_0)$. \n",
    "- Linearity means that if $y_1(n)$ and $y_2(n)$ are the outputs associated with $x_1(n)$ and $x_2(n)$, then the output associated with $a_1x_1(n)+a_2x_2(n)$ is $a_1y_1(n)+a_2y_2(n)$ (superposition principle)"
   ]
  },
  {
   "cell_type": "markdown",
   "metadata": {},
   "source": [
    "\\begin{exercise} \n",
    "Check whether the following systems are filters or not. \n",
    "\n",
    "- $x(n) \\rightarrow 2x(n)$\n",
    "- $x(n) \\rightarrow 2x(n) + 1$\n",
    "- $x(n) \\rightarrow 2x(n)+x(n-1)$\n",
    "- $x(n) \\rightarrow x(n)^2$\n",
    "\n",
    "\\end{exercise}"
   ]
  },
  {
   "cell_type": "markdown",
   "metadata": {},
   "source": [
    "#### Notion of impulse response <a name=\"impulse_response\"></a>"
   ]
  },
  {
   "cell_type": "markdown",
   "metadata": {},
   "source": [
    "**Definition** A Dirac impulse (or impulse for short) is defined by\n",
    "$$\n",
    "\\delta(n) = \n",
    "\\begin{cases} \n",
    " 1 &\\text{ if } n=0 \\\\\n",
    " 0 &\\text{ elsewhere}\n",
    "\\end{cases}\n",
    "$$\n",
    "\n",
    "**Definition** The impulse response of a system is nothing but the output of the system excited by a Dirac impulse. It is often denoted $h(h)$.\n",
    "$$\n",
    "\\delta(n) \\rightarrow  \\text{System} \\rightarrow h(n)\n",
    "$$"
   ]
  },
  {
   "cell_type": "code",
   "execution_count": null,
   "metadata": {
    "collapsed": false
   },
   "outputs": [],
   "source": [
    "def dirac(n):\n",
    "# dirac function\n",
    "    return 1 if n==0 else 0\n",
    "def dirac_vector(N):\n",
    "    out = np.zeros(N)\n",
    "    out[0]=1\n",
    "    return out"
   ]
  },
  {
   "cell_type": "code",
   "execution_count": null,
   "metadata": {
    "collapsed": false
   },
   "outputs": [],
   "source": [
    "d=dirac_vector(20)\n",
    "fig,ax=plt.subplots(2,2,sharex=True)\n",
    "plt.subplot\n",
    "ax[0][0].stem(op1(d),  label=\"Filter 1\")\n",
    "ax[0][0].legend()\n",
    "ax[0][1].stem(op2(d),  label=\"Filter 2\")\n",
    "ax[0][1].legend()\n",
    "ax[1][0].stem(op3(d), label=\"Filter 3\")\n",
    "ax[1][0].legend()\n",
    "ax[1][1].stem(op4(d), label=\"Filter 4\")\n",
    "ax[1][1].legend()\n",
    "plt.suptitle(\"Impulse responses\")"
   ]
  },
  {
   "cell_type": "markdown",
   "metadata": {},
   "source": [
    "#### Curiosity (continued)"
   ]
  },
  {
   "cell_type": "markdown",
   "metadata": {},
   "source": [
    "The impulse response of op4(op1) is given by"
   ]
  },
  {
   "cell_type": "code",
   "execution_count": null,
   "metadata": {
    "collapsed": false
   },
   "outputs": [],
   "source": [
    "h=op4(op1(dirac_vector(20)))\n",
    "plt.stem(h, label=\"Filter 4(1)\")\n",
    "_=plt.axis([-5, 20, 0, 1.2])"
   ]
  },
  {
   "cell_type": "markdown",
   "metadata": {},
   "source": [
    "This is nothing but a Dirac impulse! We already observed that op4(op1(signal))=signal; that is the filter is an identity transformation. In other words, op4 acts as the \"inverse\" of op1.     Finally, we note that the impuse response of the indentity filter is a Dirac impulse. \n"
   ]
  },
  {
   "cell_type": "markdown",
   "metadata": {},
   "source": [
    "----\n",
    "<div align=right> [Index](toc.ipynb) - [Back](DelaysAndScales.ipynb) - [Next](Intro_Fourier.ipynb)</div>"
   ]
  }
 ],
 "metadata": {
  "interactive_sols": {
   "cbx_id": 1
  },
  "kernelspec": {
   "display_name": "Python 3",
   "language": "python",
   "name": "python3"
  },
  "language_info": {
   "codemirror_mode": {
    "name": "ipython",
    "version": 3
   },
   "file_extension": ".py",
   "mimetype": "text/x-python",
   "name": "python",
   "nbconvert_exporter": "python",
   "pygments_lexer": "ipython3",
   "version": "3.4.3+"
  },
  "latex_envs": {
   "bibliofile": "biblio.bib",
   "cite_by": "apalike",
   "current_citInitial": 1,
   "eqLabelWithNumbers": true,
   "eqNumInitial": 0
  }
 },
 "nbformat": 4,
 "nbformat_minor": 0
}
